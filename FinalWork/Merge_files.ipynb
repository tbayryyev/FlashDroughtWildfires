{
 "cells": [
  {
   "cell_type": "code",
   "execution_count": 3,
   "id": "76b923e5",
   "metadata": {},
   "outputs": [],
   "source": [
    "import glob\n",
    "import netCDF4 as nc\n",
    "import xarray as xr\n",
    "import numpy as np\n",
    "import matplotlib.pyplot as plt"
   ]
  },
  {
   "cell_type": "code",
   "execution_count": 5,
   "id": "1d0c2c24",
   "metadata": {},
   "outputs": [
   ],
   "source": [
    "# combines all the netcdf files into 1 file\n",
    "ds = xr.open_mfdataset('*.nc4')\n",
    "ds.to_netcdf('Data.nc')\n"
   ]
  },
  {
   "cell_type": "code",
   "execution_count": 10,
   "id": "1afaac7c",
   "metadata": {},
   "outputs": [
    {
     "name": "stdout",
     "output_type": "stream",
     "text": [
      "<class 'netCDF4._netCDF4.Variable'>\n",
      "float32 SoilMoist_S_tavg(time, lat, lon)\n",
      "    _FillValue: -9999.0\n",
      "    standard_name: soil_moisture_content\n",
      "    long_name: Surface Soil moisture\n",
      "    units: kg m-2\n",
      "    cell_methods: time: mean\n",
      "    vmin: 0.008274543\n",
      "    vmax: 9.232187\n",
      "    missing_value: -9999.0\n",
      "unlimited dimensions: \n",
      "current shape = (6909, 38, 41)\n",
      "filling on\n",
      "<class 'netCDF4._netCDF4.Dataset'>\n",
      "root group (NETCDF4 data model, file format HDF5):\n",
      "    CDI: Climate Data Interface version 1.9.8 (https://mpimet.mpg.de/cdi)\n",
      "    Conventions: CF-1.6\n",
      "    history: created on date: 2019-08-25T10:49:22.496\n",
      "    source: CLSM_F2.5/CSR_GRACE_GRACE-FO_RL06_Mascons_all-corrections_2002-04_2019-08.nc/ECMWF\n",
      "    institution: NASA GSFC HSL\n",
      "    missing_value: -9999.0\n",
      "    tavg definision:: 24-hour average\n",
      "    title: GLDAS2.2 LIS land surface model output\n",
      "    references: Li_etal_WRR_2019, Li_etal_SciRep_2019, Li_etal_GRL_2017, Rodell_etal_BAMS_2004, Kumar_etal_EMS_2006, Peters-Lidard_etal_ISSE_2007\n",
      "    conventions: CF-1.6\n",
      "    comment: website: https://ldas.gsfc.nasa.gov/gldas, https://lis.gsfc.nasa.gov/\n",
      "    MAP_PROJECTION: EQUIDISTANT CYLINDRICAL\n",
      "    SOUTH_WEST_CORNER_LAT: -59.875\n",
      "    SOUTH_WEST_CORNER_LON: -179.875\n",
      "    DX: 0.25\n",
      "    DY: 0.25\n",
      "    history_L34RS: 'Created by L34RS v1.4.2 @ NASA GES DISC on June 09 2022 20:59:05. Spatial: -124.411 -114.135 32.534 42.01. Variables: AvgSurfT_tavg Evap_tavg SoilMoist_S_tavg'\n",
      "    CDO: Climate Data Operators version 1.9.8 (https://mpimet.mpg.de/cdo)\n",
      "    dimensions(sizes): time(6909), bnds(2), lon(41), lat(38)\n",
      "    variables(dimensions): int64 time(time), float64 time_bnds(time,bnds), float32 lon(lon), float32 lat(lat), float32 Evap_tavg(time,lat,lon), float32 AvgSurfT_tavg(time,lat,lon), float32 SoilMoist_S_tavg(time,lat,lon)\n",
      "    groups: \n"
     ]
    },
   ],
   "source": [
    "fn = 'data.nc'\n",
    "ds = nc.Dataset(fn)\n",
    "print(ds['SoilMoist_S_tavg'])\n",
    "print(ds)\n"
   ]
  },
  {
   "cell_type": "code",
   "execution_count": null,
   "id": "8a68b2b9",
   "metadata": {},
   "outputs": [],
   "source": []
  }
 ],
 "metadata": {
  "kernelspec": {
   "display_name": "Python 3",
   "language": "python",
   "name": "python3"
  },
  "language_info": {
   "codemirror_mode": {
    "name": "ipython",
    "version": 3
   },
   "file_extension": ".py",
   "mimetype": "text/x-python",
   "name": "python",
   "nbconvert_exporter": "python",
   "pygments_lexer": "ipython3",
   "version": "3.8.8"
  }
 },
 "nbformat": 4,
 "nbformat_minor": 5
}
