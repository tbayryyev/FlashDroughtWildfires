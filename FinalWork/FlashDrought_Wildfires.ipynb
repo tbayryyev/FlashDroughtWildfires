{
 "cells": [
  {
   "cell_type": "code",
   "execution_count": 98,
   "id": "92624615",
   "metadata": {},
   "outputs": [],
   "source": [
    "import csv\n",
    "import datetime\n",
    "import pandas as pd\n",
    "import matplotlib.pyplot as plt\n",
    "import numpy as np\n",
    "import seaborn as sns\n",
    "from scipy.stats import pearsonr"
   ]
  },
  {
   "cell_type": "code",
   "execution_count": 15,
   "id": "cadd0604",
   "metadata": {},
   "outputs": [
    {
     "data": {
      "text/html": [
       "<div>\n",
       "<style scoped>\n",
       "    .dataframe tbody tr th:only-of-type {\n",
       "        vertical-align: middle;\n",
       "    }\n",
       "\n",
       "    .dataframe tbody tr th {\n",
       "        vertical-align: top;\n",
       "    }\n",
       "\n",
       "    .dataframe thead th {\n",
       "        text-align: right;\n",
       "    }\n",
       "</style>\n",
       "<table border=\"1\" class=\"dataframe\">\n",
       "  <thead>\n",
       "    <tr style=\"text-align: right;\">\n",
       "      <th></th>\n",
       "      <th>Alarm Date</th>\n",
       "      <th>Unnamed: 1</th>\n",
       "    </tr>\n",
       "  </thead>\n",
       "  <tbody>\n",
       "    <tr>\n",
       "      <th>0</th>\n",
       "      <td>6/18/2020</td>\n",
       "      <td>NaN</td>\n",
       "    </tr>\n",
       "    <tr>\n",
       "      <th>1</th>\n",
       "      <td>6/1/2020</td>\n",
       "      <td>NaN</td>\n",
       "    </tr>\n",
       "    <tr>\n",
       "      <th>2</th>\n",
       "      <td>8/10/2020</td>\n",
       "      <td>NaN</td>\n",
       "    </tr>\n",
       "    <tr>\n",
       "      <th>3</th>\n",
       "      <td>3/31/2020</td>\n",
       "      <td>NaN</td>\n",
       "    </tr>\n",
       "    <tr>\n",
       "      <th>4</th>\n",
       "      <td>4/14/2020</td>\n",
       "      <td>NaN</td>\n",
       "    </tr>\n",
       "    <tr>\n",
       "      <th>...</th>\n",
       "      <td>...</td>\n",
       "      <td>...</td>\n",
       "    </tr>\n",
       "    <tr>\n",
       "      <th>21698</th>\n",
       "      <td>3/3/21 21:03</td>\n",
       "      <td>NaN</td>\n",
       "    </tr>\n",
       "    <tr>\n",
       "      <th>21699</th>\n",
       "      <td>7/15/21 14:38</td>\n",
       "      <td>NaN</td>\n",
       "    </tr>\n",
       "    <tr>\n",
       "      <th>21700</th>\n",
       "      <td>4/25/2021</td>\n",
       "      <td>NaN</td>\n",
       "    </tr>\n",
       "    <tr>\n",
       "      <th>21701</th>\n",
       "      <td>7/14/21 0:15</td>\n",
       "      <td>NaN</td>\n",
       "    </tr>\n",
       "    <tr>\n",
       "      <th>21702</th>\n",
       "      <td>7/31/21 21:20</td>\n",
       "      <td>NaN</td>\n",
       "    </tr>\n",
       "  </tbody>\n",
       "</table>\n",
       "<p>21703 rows × 2 columns</p>\n",
       "</div>"
      ],
      "text/plain": [
       "          Alarm Date Unnamed: 1\n",
       "0          6/18/2020        NaN\n",
       "1           6/1/2020        NaN\n",
       "2          8/10/2020        NaN\n",
       "3          3/31/2020        NaN\n",
       "4          4/14/2020        NaN\n",
       "...              ...        ...\n",
       "21698   3/3/21 21:03        NaN\n",
       "21699  7/15/21 14:38        NaN\n",
       "21700      4/25/2021        NaN\n",
       "21701   7/14/21 0:15        NaN\n",
       "21702  7/31/21 21:20        NaN\n",
       "\n",
       "[21703 rows x 2 columns]"
      ]
     },
     "execution_count": 15,
     "metadata": {},
     "output_type": "execute_result"
    }
   ],
   "source": [
    "# reading the california wildfire csv data\n",
    "df = pd.read_csv('California_wildfires.csv')\n",
    "df"
   ]
  },
  {
   "cell_type": "code",
   "execution_count": 16,
   "id": "0e96806a",
   "metadata": {},
   "outputs": [],
   "source": [
    "# filtering the data set to contain \"/\" which indicates a date \n",
    "df2 = df[df['Alarm Date'].str.contains(\"/\",na=False)]"
   ]
  },
  {
   "cell_type": "code",
   "execution_count": 20,
   "id": "98a313c6",
   "metadata": {},
   "outputs": [
    {
     "name": "stderr",
     "output_type": "stream",
     "text": [
      "<ipython-input-20-e58ddb391287>:2: SettingWithCopyWarning: \n",
      "A value is trying to be set on a copy of a slice from a DataFrame.\n",
      "Try using .loc[row_indexer,col_indexer] = value instead\n",
      "\n",
      "See the caveats in the documentation: https://pandas.pydata.org/pandas-docs/stable/user_guide/indexing.html#returning-a-view-versus-a-copy\n",
      "  df2['Alarm Date'] = pd.to_datetime(df['Alarm Date'],errors = 'coerce')\n"
     ]
    }
   ],
   "source": [
    "# converting the data to a datetime format\n",
    "df2['Alarm Date'] = pd.to_datetime(df['Alarm Date'],errors = 'coerce')"
   ]
  },
  {
   "cell_type": "code",
   "execution_count": 22,
   "id": "9222d80b",
   "metadata": {},
   "outputs": [
    {
     "data": {
      "text/html": [
       "<div>\n",
       "<style scoped>\n",
       "    .dataframe tbody tr th:only-of-type {\n",
       "        vertical-align: middle;\n",
       "    }\n",
       "\n",
       "    .dataframe tbody tr th {\n",
       "        vertical-align: top;\n",
       "    }\n",
       "\n",
       "    .dataframe thead th {\n",
       "        text-align: right;\n",
       "    }\n",
       "</style>\n",
       "<table border=\"1\" class=\"dataframe\">\n",
       "  <thead>\n",
       "    <tr style=\"text-align: right;\">\n",
       "      <th></th>\n",
       "      <th>Alarm Date</th>\n",
       "      <th>Unnamed: 1</th>\n",
       "    </tr>\n",
       "  </thead>\n",
       "  <tbody>\n",
       "    <tr>\n",
       "      <th>0</th>\n",
       "      <td>2020-06-18 00:00:00</td>\n",
       "      <td>NaN</td>\n",
       "    </tr>\n",
       "    <tr>\n",
       "      <th>1</th>\n",
       "      <td>2020-06-01 00:00:00</td>\n",
       "      <td>NaN</td>\n",
       "    </tr>\n",
       "    <tr>\n",
       "      <th>2</th>\n",
       "      <td>2020-08-10 00:00:00</td>\n",
       "      <td>NaN</td>\n",
       "    </tr>\n",
       "    <tr>\n",
       "      <th>3</th>\n",
       "      <td>2020-03-31 00:00:00</td>\n",
       "      <td>NaN</td>\n",
       "    </tr>\n",
       "    <tr>\n",
       "      <th>4</th>\n",
       "      <td>2020-04-14 00:00:00</td>\n",
       "      <td>NaN</td>\n",
       "    </tr>\n",
       "    <tr>\n",
       "      <th>...</th>\n",
       "      <td>...</td>\n",
       "      <td>...</td>\n",
       "    </tr>\n",
       "    <tr>\n",
       "      <th>21698</th>\n",
       "      <td>2021-03-03 21:03:00</td>\n",
       "      <td>NaN</td>\n",
       "    </tr>\n",
       "    <tr>\n",
       "      <th>21699</th>\n",
       "      <td>2021-07-15 14:38:00</td>\n",
       "      <td>NaN</td>\n",
       "    </tr>\n",
       "    <tr>\n",
       "      <th>21700</th>\n",
       "      <td>2021-04-25 00:00:00</td>\n",
       "      <td>NaN</td>\n",
       "    </tr>\n",
       "    <tr>\n",
       "      <th>21701</th>\n",
       "      <td>2021-07-14 00:15:00</td>\n",
       "      <td>NaN</td>\n",
       "    </tr>\n",
       "    <tr>\n",
       "      <th>21702</th>\n",
       "      <td>2021-07-31 21:20:00</td>\n",
       "      <td>NaN</td>\n",
       "    </tr>\n",
       "  </tbody>\n",
       "</table>\n",
       "<p>16328 rows × 2 columns</p>\n",
       "</div>"
      ],
      "text/plain": [
       "               Alarm Date Unnamed: 1\n",
       "0     2020-06-18 00:00:00        NaN\n",
       "1     2020-06-01 00:00:00        NaN\n",
       "2     2020-08-10 00:00:00        NaN\n",
       "3     2020-03-31 00:00:00        NaN\n",
       "4     2020-04-14 00:00:00        NaN\n",
       "...                   ...        ...\n",
       "21698 2021-03-03 21:03:00        NaN\n",
       "21699 2021-07-15 14:38:00        NaN\n",
       "21700 2021-04-25 00:00:00        NaN\n",
       "21701 2021-07-14 00:15:00        NaN\n",
       "21702 2021-07-31 21:20:00        NaN\n",
       "\n",
       "[16328 rows x 2 columns]"
      ]
     },
     "execution_count": 22,
     "metadata": {},
     "output_type": "execute_result"
    }
   ],
   "source": [
    "# now the dataset is formatted to datetime format\n",
    "df2"
   ]
  },
  {
   "cell_type": "code",
   "execution_count": 27,
   "id": "cd3a41da",
   "metadata": {},
   "outputs": [
    {
     "name": "stderr",
     "output_type": "stream",
     "text": [
      "<ipython-input-27-96ee3c48b8e8>:1: SettingWithCopyWarning: \n",
      "A value is trying to be set on a copy of a slice from a DataFrame.\n",
      "Try using .loc[row_indexer,col_indexer] = value instead\n",
      "\n",
      "See the caveats in the documentation: https://pandas.pydata.org/pandas-docs/stable/user_guide/indexing.html#returning-a-view-versus-a-copy\n",
      "  df2['month'] = pd.DatetimeIndex(df2['Alarm Date']).month\n"
     ]
    }
   ],
   "source": [
    "# adding a month coloumn to the dataframe with monthly wildfire occurences\n",
    "df2['month'] = pd.DatetimeIndex(df2['Alarm Date']).month"
   ]
  },
  {
   "cell_type": "code",
   "execution_count": 60,
   "id": "a7cbbf2b",
   "metadata": {},
   "outputs": [],
   "source": [
    "# get the counts of each monthly occurence of wildfires\n",
    "monthly_occurences = df2['month'].value_counts()"
   ]
  },
  {
   "cell_type": "code",
   "execution_count": 61,
   "id": "a88ab9c9",
   "metadata": {},
   "outputs": [],
   "source": [
    "# 14 years in the dataset\n",
    "mean_monthly_occurences = monthly_occurences/14"
   ]
  },
  {
   "cell_type": "code",
   "execution_count": 66,
   "id": "c55a404a",
   "metadata": {},
   "outputs": [
    {
     "data": {
      "text/plain": [
       "7.0     276.071429\n",
       "8.0     257.642857\n",
       "6.0     184.428571\n",
       "9.0     179.428571\n",
       "10.0     86.214286\n",
       "5.0      72.285714\n",
       "11.0     36.928571\n",
       "4.0      25.071429\n",
       "12.0     16.142857\n",
       "1.0      12.000000\n",
       "3.0      11.714286\n",
       "2.0       8.285714\n",
       "Name: month, dtype: float64"
      ]
     },
     "execution_count": 66,
     "metadata": {},
     "output_type": "execute_result"
    }
   ],
   "source": [
    "mean_monthly_occurences"
   ]
  },
  {
   "cell_type": "code",
   "execution_count": 67,
   "id": "eaf3d378",
   "metadata": {},
   "outputs": [],
   "source": [
    "x = [1,2,3,4,5,6,7,8,9,10,11,12]\n",
    "y = [12,8,11,25,72,184,276,257,179,86,36,16]"
   ]
  },
  {
   "cell_type": "code",
   "execution_count": 73,
   "id": "99bfec92",
   "metadata": {},
   "outputs": [
    {
     "data": {
      "text/plain": [
       "[<matplotlib.lines.Line2D at 0x1a37ec90940>]"
      ]
     },
     "execution_count": 73,
     "metadata": {},
     "output_type": "execute_result"
    },
    {
     "data": {
      "image/png": "[encoded data removed]",
      "text/plain": [
       "<Figure size 432x288 with 1 Axes>"
      ]
     },
     "metadata": {
      "needs_background": "light"
     },
     "output_type": "display_data"
    }
   ],
   "source": [
    "# plotting the mean wildfire occurences in California\n",
    "plt.plot(x,y,marker='o')"
   ]
  },
  {
   "cell_type": "code",
   "execution_count": 89,
   "id": "39560b1c",
   "metadata": {},
   "outputs": [],
   "source": [
    "# flash_drought and wildfire data corresponding by month\n",
    "flash_drought = [12,8,11,25,72,184,276,257,179,86,36,16]\n",
    "wildfire =  [1.09473684,  0.48421053,  0.34736842,0.46315789,  3.22105263,\n",
    "        4.81052632, 14.27368421, 25.25263158,  8.4,  6.17894737,\n",
    "        1.08421053,  0.6]"
   ]
  },
  {
   "cell_type": "code",
   "execution_count": 103,
   "id": "c70dbc22",
   "metadata": {},
   "outputs": [
    {
     "name": "stdout",
     "output_type": "stream",
     "text": [
      "correlation: 0.874\n"
     ]
    },
    {
     "name": "stderr",
     "output_type": "stream",
     "text": [
      "C:\\Users\\I-SMART_Lab_03\\anaconda3\\lib\\site-packages\\seaborn\\_decorators.py:36: FutureWarning: Pass the following variables as keyword args: x, y. From version 0.12, the only valid positional argument will be `data`, and passing other arguments without an explicit keyword will result in an error or misinterpretation.\n",
      "  warnings.warn(\n"
     ]
    },
    {
     "data": {
      "image/png": "[encoded data removed]",
      "text/plain": [
       "<Figure size 432x288 with 1 Axes>"
      ]
     },
     "metadata": {
      "needs_background": "light"
     },
     "output_type": "display_data"
    }
   ],
   "source": [
    "# plotting scatterplot of flash drought and wildfire data \n",
    "#plt.plot(flash_drought,wildfire,'o')\n",
    "sns.regplot(flash_drought,wildfire,ci=None)\n",
    "corr, _ = pearsonr(flash_drought, wildfire)\n",
    "print('correlation: %.3f' % corr)"
   ]
  },
  {
   "cell_type": "markdown",
   "id": "9a62bcd4",
   "metadata": {},
   "source": [
    "### Looking at the scatterplot we get an inital correlation of 0.874 which indicates a strong correlation between flash drought and wildfires, however we see a big outlier for the month of August"
   ]
  },
  {
   "cell_type": "code",
   "execution_count": 92,
   "id": "478df5aa",
   "metadata": {},
   "outputs": [],
   "source": [
    "# flash_drought and wildfire data corresponding by month\n",
    "flash_drought_noOutlier = [12,8,11,25,72,184,276,179,86,36,16]\n",
    "wildfire_noOutlier =  [1.09473684,  0.48421053,  0.34736842,0.46315789,  3.22105263,\n",
    "        4.81052632, 14.27368421,  8.4,  6.17894737,\n",
    "        1.08421053,  0.6]"
   ]
  },
  {
   "cell_type": "code",
   "execution_count": 102,
   "id": "351e7ca5",
   "metadata": {},
   "outputs": [
    {
     "name": "stdout",
     "output_type": "stream",
     "text": [
      "correlation: 0.943\n"
     ]
    },
    {
     "name": "stderr",
     "output_type": "stream",
     "text": [
      "C:\\Users\\I-SMART_Lab_03\\anaconda3\\lib\\site-packages\\seaborn\\_decorators.py:36: FutureWarning: Pass the following variables as keyword args: x, y. From version 0.12, the only valid positional argument will be `data`, and passing other arguments without an explicit keyword will result in an error or misinterpretation.\n",
      "  warnings.warn(\n"
     ]
    },
    {
     "data": {
      "image/png": "[encoded data removed]",
      "text/plain": [
       "<Figure size 432x288 with 1 Axes>"
      ]
     },
     "metadata": {
      "needs_background": "light"
     },
     "output_type": "display_data"
    }
   ],
   "source": [
    "sns.regplot(flash_drought_noOutlier,wildfire_noOutlier,ci=None)\n",
    "#m, b = np.polyfit(flash_drought_noOutlier, wildfire_noOutlier, 1)\n",
    "#plt.plot(flash_drought_noOutlier, m*flash_drought_noOutlier+b)\n",
    "corr, _ = pearsonr(flash_drought_noOutlier, wildfire_noOutlier)\n",
    "print('correlation: %.3f' % corr)"
   ]
  },
  {
   "cell_type": "markdown",
   "id": "147c1906",
   "metadata": {},
   "source": [
    "#### After removing the outlier we get a new stronger correlation of 0.943 between flash drought events and wildfire occurences telling us that there is a relationship between the two variables"
   ]
  },
  {
   "cell_type": "code",
   "execution_count": null,
   "id": "ca3214ad",
   "metadata": {},
   "outputs": [],
   "source": []
  }
 ],
 "metadata": {
  "kernelspec": {
   "display_name": "Python 3",
   "language": "python",
   "name": "python3"
  },
  "language_info": {
   "codemirror_mode": {
    "name": "ipython",
    "version": 3
   },
   "file_extension": ".py",
   "mimetype": "text/x-python",
   "name": "python",
   "nbconvert_exporter": "python",
   "pygments_lexer": "ipython3",
   "version": "3.8.8"
  }
 },
 "nbformat": 4,
 "nbformat_minor": 5
}
